{
  "nbformat": 4,
  "nbformat_minor": 0,
  "metadata": {
    "colab": {
      "name": "practical-3.ipynb",
      "provenance": [],
      "authorship_tag": "ABX9TyMuLSViaHRta3VHqSLm/GBn",
      "include_colab_link": true
    },
    "kernelspec": {
      "name": "python3",
      "display_name": "Python 3"
    },
    "language_info": {
      "name": "python"
    }
  },
  "cells": [
    {
      "cell_type": "markdown",
      "metadata": {
        "id": "view-in-github",
        "colab_type": "text"
      },
      "source": [
        "<a href=\"https://colab.research.google.com/github/reveurguy/Cubertify/blob/main/practical_3.ipynb\" target=\"_parent\"><img src=\"https://colab.research.google.com/assets/colab-badge.svg\" alt=\"Open In Colab\"/></a>"
      ]
    },
    {
      "cell_type": "markdown",
      "metadata": {
        "id": "1B9EuhdUsuPE"
      },
      "source": [
        "**Question-1**"
      ]
    },
    {
      "cell_type": "code",
      "metadata": {
        "colab": {
          "base_uri": "https://localhost:8080/"
        },
        "id": "LRzK-Hb5swW4",
        "outputId": "49d38d15-3b65-420a-fe57-ed7f6525ba88"
      },
      "source": [
        "def checkEvil(num):\n",
        "    one_c = 0\n",
        "    while num != 0:\n",
        "        if num % 2 == 1:\n",
        "            one_c += 1\n",
        "        num //= 2\n",
        "    if one_c % 2 == 0:\n",
        "        print(\"It is an Evil Number.\")\n",
        "    else:\n",
        "        print(\"It is an Odious Number.\")\n",
        "\n",
        "\n",
        "num = int(input(\"Enter a non-negative number: \"))\n",
        "checkEvil(num)"
      ],
      "execution_count": null,
      "outputs": [
        {
          "output_type": "stream",
          "name": "stdout",
          "text": [
            "Enter a non-negative number: 1\n",
            "It is an Odious Number.\n"
          ]
        }
      ]
    },
    {
      "cell_type": "markdown",
      "metadata": {
        "id": "2vA1UNXSpoqe"
      },
      "source": [
        "**Question-2**"
      ]
    },
    {
      "cell_type": "code",
      "metadata": {
        "colab": {
          "base_uri": "https://localhost:8080/"
        },
        "id": "J0isSRY3pKXo",
        "outputId": "80d5b05b-e7a5-48f5-ea8a-5e4bf9703b33"
      },
      "source": [
        "def factors(num):\n",
        "    fact = [i for i in range(1, num+1) if num % i == 0 and i % 2 == 0]\n",
        "    print(\"Even Factors are: \", fact)\n",
        "num = int(input(\"Enter a number: \"))\n",
        "factors(num)"
      ],
      "execution_count": null,
      "outputs": [
        {
          "output_type": "stream",
          "name": "stdout",
          "text": [
            "Enter a number: 6\n",
            "Even Factors are:  [2, 6]\n"
          ]
        }
      ]
    },
    {
      "cell_type": "markdown",
      "metadata": {
        "id": "BbclPThTpvPH"
      },
      "source": [
        "**Question-3**"
      ]
    },
    {
      "cell_type": "code",
      "metadata": {
        "colab": {
          "base_uri": "https://localhost:8080/"
        },
        "id": "pAGlVFQppxHz",
        "outputId": "ebea12e9-9d18-48f4-db96-00d02ec586cd"
      },
      "source": [
        "def check(string, vowels):\n",
        "    vow = [i for i in string if i in vowels]\n",
        "    cons = [i for i in string if i not in vowels]\n",
        "    up = [i for i in string if i.isupper()]\n",
        "    low = [i for i in string if i.islower()]\n",
        "    print(\"No. of Vowels: \", len(vow))\n",
        "    print(\"No. of Consonants: \", len(cons))\n",
        "    print(\"No. of Uppercase letters: \", len(up))\n",
        "    print(\"No. of Lowercase letters: \", len(low))\n",
        "string = input(\"Enter string: \")\n",
        "vowels = \"AaEeIiOoUu\"\n",
        "check(string, vowels)"
      ],
      "execution_count": null,
      "outputs": [
        {
          "output_type": "stream",
          "name": "stdout",
          "text": [
            "Enter string: hello\n",
            "No. of Vowels:  2\n",
            "No. of Consonants:  3\n",
            "No. of Uppercase letters:  0\n",
            "No. of Lowercase letters:  5\n"
          ]
        }
      ]
    },
    {
      "cell_type": "markdown",
      "metadata": {
        "id": "xF4r_Py_qC7T"
      },
      "source": [
        "**Question-4**"
      ]
    },
    {
      "cell_type": "code",
      "metadata": {
        "colab": {
          "base_uri": "https://localhost:8080/"
        },
        "id": "UEbXEXZOqFJr",
        "outputId": "c603481f-cef8-4381-c11a-e74e4b7ee217"
      },
      "source": [
        "def sumofseries(n):\n",
        "    return (n * (n + 1) * (2 * n + 4)) / 12\n",
        "\n",
        "\n",
        "n = int(input(\"Enter the value of n: \"))\n",
        "Sum = sumofseries(n)\n",
        "print(\"Sum of series is: \", Sum)"
      ],
      "execution_count": null,
      "outputs": [
        {
          "output_type": "stream",
          "name": "stdout",
          "text": [
            "Enter the value of n: 5\n",
            "Sum of series is:  35.0\n"
          ]
        }
      ]
    }
  ]
}